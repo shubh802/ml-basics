{
 "cells": [
  {
   "cell_type": "code",
   "execution_count": 2,
   "metadata": {
    "scrolled": true
   },
   "outputs": [
    {
     "name": "stdout",
     "output_type": "stream",
     "text": [
      "0 -3.04813475985314\n",
      "1 -2.432876022591703\n",
      "2 -2.2668305560732533\n",
      "3 -1.9866243808256356\n",
      "4 -1.8793357263638713\n",
      "5 -1.7546514716719317\n",
      "6 -1.6261882575652984\n",
      "7 -1.5659491313709972\n",
      "8 -1.500839272365363\n",
      "9 -1.4232358056464016\n",
      "10 -1.3488772578000128\n",
      "11 -1.2826692841841674\n",
      "12 -1.2189360959799185\n",
      "13 -1.1759746746838118\n",
      "14 -1.139034460758374\n",
      "15 -1.1020258242818166\n",
      "16 -1.0667103522916217\n",
      "17 -1.033583186205344\n",
      "18 -1.0120025074305934\n",
      "19 -0.9913416082292024\n",
      "20 -0.9625199399190764\n",
      "21 -0.9311212052067015\n",
      "22 -0.8859001610618642\n",
      "23 -0.860373276972092\n",
      "24 -0.8109888214802644\n",
      "25 -0.7677907452196246\n",
      "26 -0.7307593775858018\n",
      "27 -0.6905997639860408\n",
      "28 -0.6628893046062382\n",
      "29 -0.6263931218546726\n",
      "30 -0.5823126870857008\n",
      "31 -0.54608590832473\n",
      "32 -0.5177061284720111\n",
      "33 -0.5087801579919221\n",
      "34 -0.48673569200792954\n",
      "35 -0.4497077072705802\n",
      "36 -0.4031136760112817\n",
      "37 -0.3698776094105336\n",
      "38 -0.33557374811076895\n",
      "39 -0.31425778722550113\n",
      "40 -0.2941530971865407\n",
      "41 -0.27071833540834245\n",
      "42 -0.24339052877731787\n",
      "43 -0.23176445179547833\n",
      "44 -0.197535786065814\n",
      "45 -0.1829336533541443\n",
      "46 -0.1473627114694529\n",
      "47 -0.12548470907972514\n",
      "48 -0.10723020030358453\n",
      "49 -0.08520988033719075\n",
      "50 -0.06765779697117817\n",
      "51 -0.0361023951137172\n",
      "52 -0.01978345075591338\n",
      "53 -0.004530435678324051\n",
      "54 0.030825673878399573\n",
      "55 0.057293069173177384\n",
      "56 0.10105434713505998\n",
      "57 0.14173353332733538\n",
      "58 0.1652464206416468\n",
      "59 0.18577050551778387\n",
      "60 0.20140335670689993\n",
      "61 0.21471610411881492\n",
      "62 0.24713125601922364\n",
      "63 0.2776655259061224\n",
      "64 0.30646475222206304\n",
      "65 0.3342748791694983\n",
      "66 0.3696283183322538\n",
      "67 0.39574616134114143\n",
      "68 0.41315468967493785\n",
      "69 0.45492740936374143\n",
      "70 0.48048283799818364\n",
      "71 0.49917574576347695\n",
      "72 0.5115636829663536\n",
      "73 0.5341702939975168\n",
      "74 0.5719265448816202\n",
      "75 0.6060324464100219\n",
      "76 0.6307080964970108\n",
      "77 0.6559643303534135\n",
      "78 0.7007003296260204\n",
      "79 0.7474011957347305\n",
      "80 0.7745013056142716\n",
      "81 0.8163803553934348\n",
      "82 0.8574228064171852\n",
      "83 0.8870604079146918\n",
      "84 0.9232677075957764\n",
      "85 0.9724046464168353\n",
      "86 1.020749654700109\n",
      "87 1.0758666911175292\n",
      "88 1.112084004719501\n",
      "89 1.2163470842506707\n",
      "90 1.2641520141415608\n",
      "91 1.3563783596618184\n",
      "92 1.3985426533124168\n",
      "93 1.4614374472808849\n",
      "94 1.5169848142042945\n",
      "95 1.6428220515932808\n",
      "96 1.7709632320778084\n",
      "97 1.862048888756897\n",
      "98 2.007635671535477\n",
      "99 2.2086866936835663\n",
      "100 3.227121096489154\n"
     ]
    }
   ],
   "source": [
    "#Q-Q plot\n",
    "import numpy as np\n",
    "import pylab\n",
    "import scipy.stats as stats\n",
    "\n",
    "# N(0,1)\n",
    "std_normal = np.random.normal(loc= 0, scale = 1, size= 1000)\n",
    "\n",
    "# 0 to 100th perceniles od std-normal\n",
    "for i in range(0, 101):\n",
    "    print(i, np.percentile(std_normal, i))\n",
    "\n"
   ]
  },
  {
   "cell_type": "code",
   "execution_count": 4,
   "metadata": {},
   "outputs": [
    {
     "data": {
      "image/png": "[encoded data removed]",
      "text/plain": [
       "<Figure size 432x288 with 1 Axes>"
      ]
     },
     "metadata": {
      "needs_background": "light"
     },
     "output_type": "display_data"
    }
   ],
   "source": [
    "measurements = np.random.normal(loc = 20, scale = 5, size=1000)\n",
    "\n",
    "stats.probplot(measurements, dist=\"norm\", plot=pylab)\n",
    "pylab.show()"
   ]
  },
  {
   "cell_type": "code",
   "execution_count": 6,
   "metadata": {},
   "outputs": [
    {
     "name": "stdout",
     "output_type": "stream",
     "text": [
      "0.5149951563194716\n"
     ]
    }
   ],
   "source": [
    "import random\n",
    "\n",
    "print(random.random())"
   ]
  },
  {
   "cell_type": "code",
   "execution_count": 8,
   "metadata": {},
   "outputs": [
    {
     "data": {
      "text/plain": [
       "(150, 4)"
      ]
     },
     "execution_count": 8,
     "metadata": {},
     "output_type": "execute_result"
    }
   ],
   "source": [
    "from sklearn import datasets\n",
    "iris = datasets.load_iris()\n",
    "d = iris.data\n",
    "d.shape"
   ]
  },
  {
   "cell_type": "code",
   "execution_count": 24,
   "metadata": {},
   "outputs": [
    {
     "data": {
      "text/plain": [
       "28"
      ]
     },
     "execution_count": 24,
     "metadata": {},
     "output_type": "execute_result"
    }
   ],
   "source": [
    "n = 150;\n",
    "m = 30;\n",
    "p = m/n;\n",
    "\n",
    "sampled_data = [];\n",
    "\n",
    "for i in range(0,n):\n",
    "    if random.random() <= p:\n",
    "        sampled_data.append(d[i, :])\n",
    "len(sampled_data)"
   ]
  },
  {
   "cell_type": "code",
   "execution_count": 6,
   "metadata": {},
   "outputs": [
    {
     "data": {
      "image/png": "[encoded data removed]",
      "text/plain": [
       "<Figure size 432x288 with 1 Axes>"
      ]
     },
     "metadata": {
      "needs_background": "light"
     },
     "output_type": "display_data"
    },
    {
     "name": "stdout",
     "output_type": "stream",
     "text": [
      "95.0 confidence interval 162.0 and 176.0\n"
     ]
    }
   ],
   "source": [
    "import numpy as np\n",
    "from pandas import read_csv\n",
    "from sklearn.utils import resample\n",
    "from sklearn.metrics import accuracy_score\n",
    "from matplotlib import pyplot\n",
    "\n",
    "x = np.array([180,162,158,172,168,150,171,183,165,176])\n",
    "\n",
    "#configure bootstrap\n",
    "n_iterations = 1000\n",
    "n_size = int(len(x))\n",
    "\n",
    "\n",
    "#run bootstrap\n",
    "medians = list()\n",
    "for i in range(n_iterations):\n",
    "    #prepare train and test sets\n",
    "    s = resample(x, n_samples=n_size);\n",
    "    m = np.median(s);\n",
    "    medians.append(m);\n",
    "    \n",
    "# plot scores\n",
    "pyplot.hist(medians);\n",
    "pyplot.show()\n",
    "\n",
    "#confidence interval\n",
    "alpha = 0.95\n",
    "p = ((1.0 - alpha)/2.0) * 100\n",
    "lower = np.percentile(medians, p)\n",
    "# print(lower)\n",
    "\n",
    "p = (alpha+((1.0-alpha)/2.0)) * 100\n",
    "upper = np.percentile(medians, p)\n",
    "# print(upper)\n",
    "\n",
    "print('%.1f confidence interval %.1f and %.1f' % (alpha*100, lower, upper))"
   ]
  },
  {
   "cell_type": "code",
   "execution_count": null,
   "metadata": {},
   "outputs": [],
   "source": []
  }
 ],
 "metadata": {
  "kernelspec": {
   "display_name": "Python 3",
   "language": "python",
   "name": "python3"
  },
  "language_info": {
   "codemirror_mode": {
    "name": "ipython",
    "version": 3
   },
   "file_extension": ".py",
   "mimetype": "text/x-python",
   "name": "python",
   "nbconvert_exporter": "python",
   "pygments_lexer": "ipython3",
   "version": "3.7.3"
  }
 },
 "nbformat": 4,
 "nbformat_minor": 2
}
