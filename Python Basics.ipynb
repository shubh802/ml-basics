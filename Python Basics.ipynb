{
 "cells": [
  {
   "cell_type": "code",
   "execution_count": 1,
   "metadata": {},
   "outputs": [
    {
     "name": "stdout",
     "output_type": "stream",
     "text": [
      "hello\n"
     ]
    }
   ],
   "source": [
    "print(\"hello\")"
   ]
  },
  {
   "cell_type": "code",
   "execution_count": 2,
   "metadata": {},
   "outputs": [
    {
     "name": "stdout",
     "output_type": "stream",
     "text": [
      "['False', 'None', 'True', 'and', 'as', 'assert', 'async', 'await', 'break', 'class', 'continue', 'def', 'del', 'elif', 'else', 'except', 'finally', 'for', 'from', 'global', 'if', 'import', 'in', 'is', 'lambda', 'nonlocal', 'not', 'or', 'pass', 'raise', 'return', 'try', 'while', 'with', 'yield']\n"
     ]
    }
   ],
   "source": [
    "import keyword\n",
    "\n",
    "print(keyword.kwlist)"
   ]
  },
  {
   "cell_type": "code",
   "execution_count": 7,
   "metadata": {},
   "outputs": [],
   "source": [
    "abc_12 = 12;"
   ]
  },
  {
   "cell_type": "code",
   "execution_count": 12,
   "metadata": {
    "scrolled": false
   },
   "outputs": [
    {
     "name": "stdout",
     "output_type": "stream",
     "text": [
      "0\n",
      "0\n",
      "1\n",
      "2\n",
      "2\n",
      "4\n",
      "3\n",
      "6\n",
      "4\n",
      "8\n",
      "5\n",
      "10\n",
      "6\n",
      "12\n",
      "7\n",
      "14\n",
      "8\n",
      "16\n",
      "9\n",
      "18\n",
      "100\n"
     ]
    }
   ],
   "source": [
    "for i in range(10):\n",
    "    print(i)\n",
    "    print(i*2)\n",
    "print(100)"
   ]
  },
  {
   "cell_type": "code",
   "execution_count": 1,
   "metadata": {},
   "outputs": [
    {
     "name": "stdout",
     "output_type": "stream",
     "text": [
      "50 is type of  <class 'int'>\n"
     ]
    }
   ],
   "source": [
    "a = 10; b = 20; c = 30; d = 5.5; e = \"null\";\n",
    "a,b,c = 50, 6.5, \"ML\";\n",
    "print(a, \"is type of \",type(a))"
   ]
  },
  {
   "cell_type": "code",
   "execution_count": 8,
   "metadata": {},
   "outputs": [
    {
     "name": "stdout",
     "output_type": "stream",
     "text": [
      "<class 'str'>\n",
      "I\n",
      " is just\n",
      "       a test for AI\n",
      " is just\n",
      " \n"
     ]
    }
   ],
   "source": [
    "s = \"\"\" this is just\n",
    "       a test for AI\"\"\"\n",
    "print(type(s))\n",
    "print(s[-1])\n",
    "#slicing\n",
    "print(s[5:])\n",
    "print(s[5:15])"
   ]
  },
  {
   "cell_type": "code",
   "execution_count": 11,
   "metadata": {},
   "outputs": [
    {
     "name": "stdout",
     "output_type": "stream",
     "text": [
      "20.5\n",
      "1.5\n"
     ]
    }
   ],
   "source": [
    "#List\n",
    "a=[10,20.5,'Hello']\n",
    "print(a[1])\n",
    "#Tuple\n",
    "t=(1,1.5,\"ML\")\n",
    "print(t[1])"
   ]
  },
  {
   "cell_type": "code",
   "execution_count": 12,
   "metadata": {},
   "outputs": [
    {
     "ename": "TypeError",
     "evalue": "'tuple' object does not support item assignment",
     "output_type": "error",
     "traceback": [
      "\u001b[1;31m---------------------------------------------------------------------------\u001b[0m",
      "\u001b[1;31mTypeError\u001b[0m                                 Traceback (most recent call last)",
      "\u001b[1;32m<ipython-input-12-4d03db152f40>\u001b[0m in \u001b[0;36m<module>\u001b[1;34m\u001b[0m\n\u001b[1;32m----> 1\u001b[1;33m \u001b[0mt\u001b[0m\u001b[1;33m[\u001b[0m\u001b[1;36m1\u001b[0m\u001b[1;33m]\u001b[0m\u001b[1;33m=\u001b[0m\u001b[1;36m1.25\u001b[0m\u001b[1;33m\u001b[0m\u001b[1;33m\u001b[0m\u001b[0m\n\u001b[0m",
      "\u001b[1;31mTypeError\u001b[0m: 'tuple' object does not support item assignment"
     ]
    }
   ],
   "source": [
    "t[1]=1.25"
   ]
  },
  {
   "cell_type": "code",
   "execution_count": 14,
   "metadata": {},
   "outputs": [
    {
     "name": "stdout",
     "output_type": "stream",
     "text": [
      "{40, 10, 20, 30}\n"
     ]
    },
    {
     "ename": "TypeError",
     "evalue": "'set' object is not subscriptable",
     "output_type": "error",
     "traceback": [
      "\u001b[1;31m---------------------------------------------------------------------------\u001b[0m",
      "\u001b[1;31mTypeError\u001b[0m                                 Traceback (most recent call last)",
      "\u001b[1;32m<ipython-input-14-000480c49036>\u001b[0m in \u001b[0;36m<module>\u001b[1;34m\u001b[0m\n\u001b[0;32m      2\u001b[0m \u001b[0ms\u001b[0m \u001b[1;33m=\u001b[0m\u001b[1;33m{\u001b[0m\u001b[1;36m10\u001b[0m\u001b[1;33m,\u001b[0m\u001b[1;36m20\u001b[0m\u001b[1;33m,\u001b[0m\u001b[1;36m30\u001b[0m\u001b[1;33m,\u001b[0m\u001b[1;36m30\u001b[0m\u001b[1;33m,\u001b[0m\u001b[1;36m40\u001b[0m\u001b[1;33m}\u001b[0m\u001b[1;33m\u001b[0m\u001b[1;33m\u001b[0m\u001b[0m\n\u001b[0;32m      3\u001b[0m \u001b[0mprint\u001b[0m\u001b[1;33m(\u001b[0m\u001b[0ms\u001b[0m\u001b[1;33m)\u001b[0m\u001b[1;33m\u001b[0m\u001b[1;33m\u001b[0m\u001b[0m\n\u001b[1;32m----> 4\u001b[1;33m \u001b[0mprint\u001b[0m\u001b[1;33m(\u001b[0m\u001b[0ms\u001b[0m\u001b[1;33m[\u001b[0m\u001b[1;36m1\u001b[0m\u001b[1;33m]\u001b[0m\u001b[1;33m)\u001b[0m\u001b[1;33m\u001b[0m\u001b[1;33m\u001b[0m\u001b[0m\n\u001b[0m",
      "\u001b[1;31mTypeError\u001b[0m: 'set' object is not subscriptable"
     ]
    }
   ],
   "source": [
    "#set - unordered collection of obj\n",
    "s ={10,20,30,30,40}\n",
    "print(s)\n",
    "print(s[1])"
   ]
  },
  {
   "cell_type": "code",
   "execution_count": 15,
   "metadata": {},
   "outputs": [
    {
     "name": "stdout",
     "output_type": "stream",
     "text": [
      "apple\n"
     ]
    }
   ],
   "source": [
    "#dictionary-key:value pair\n",
    "d={\"a\":\"apple\",\"b\":\"bat\"}\n",
    "print(d['a'])"
   ]
  },
  {
   "cell_type": "code",
   "execution_count": 16,
   "metadata": {},
   "outputs": [
    {
     "name": "stdout",
     "output_type": "stream",
     "text": [
      "Congratulation, shubh you just wrote 100 lines\n"
     ]
    }
   ],
   "source": [
    "user=\"shubh\"\n",
    "lines=100\n",
    "print(\"Congratulation, \"+user+\" you just wrote \"+str(lines)+\" lines\")"
   ]
  },
  {
   "cell_type": "code",
   "execution_count": 18,
   "metadata": {},
   "outputs": [
    {
     "name": "stdout",
     "output_type": "stream",
     "text": [
      "<class 'list'>\n",
      "<class 'set'>\n"
     ]
    }
   ],
   "source": [
    "a =[1,2,4,4,5]\n",
    "print(type(a))\n",
    "s = set(a)\n",
    "print(type(s))"
   ]
  },
  {
   "cell_type": "code",
   "execution_count": 21,
   "metadata": {
    "scrolled": true
   },
   "outputs": [
    {
     "name": "stdout",
     "output_type": "stream",
     "text": [
      "The value of b is 20 and a is 10\n",
      "Hello shubh, Good Morning!\n"
     ]
    }
   ],
   "source": [
    "a=10;b=20\n",
    "print(\"The value of b is {} and a is {}\".format(b,a))\n",
    "print(\"Hello {name}, {greeting}\".format(name=\"shubh\",greeting=\"Good Morning!\"))"
   ]
  },
  {
   "cell_type": "code",
   "execution_count": 23,
   "metadata": {},
   "outputs": [
    {
     "name": "stdout",
     "output_type": "stream",
     "text": [
      "Enter a number:321\n",
      "321\n"
     ]
    }
   ],
   "source": [
    "num = input(\"Enter a number:\")\n",
    "print(num)"
   ]
  },
  {
   "cell_type": "code",
   "execution_count": 14,
   "metadata": {},
   "outputs": [
    {
     "name": "stdout",
     "output_type": "stream",
     "text": [
      "7\n",
      "50625\n",
      "False\n",
      "True\n",
      "0\n",
      "14\n",
      "20\n",
      "True\n",
      "False\n",
      "True\n",
      "True\n"
     ]
    }
   ],
   "source": [
    "#floor\n",
    "print(15//2) \n",
    "#exponent\n",
    "print(15**4) \n",
    "a, b= True, False\n",
    "print(a and b)\n",
    "print(a or b)\n",
    "a, b = 10, 4\n",
    "#bitwise and\n",
    "print(a & b)\n",
    "#bitwise or\n",
    "print(a | b)\n",
    "a +=10\n",
    "print(a)\n",
    "#Identity operator\n",
    "a , b = 5, 5\n",
    "print(a is b)#true\n",
    "l1 = [1, 2, 3]\n",
    "l2 = [1, 2, 3]\n",
    "print(l1 is l2)#false\n",
    "s1 = \"abc\"\n",
    "s2 = \"abc\"\n",
    "print(s1 is s2)#true\n",
    "d = {1:\"a\", 2:\"b\"}\n",
    "print(1 in d)#true only works for keys"
   ]
  },
  {
   "cell_type": "code",
   "execution_count": 22,
   "metadata": {},
   "outputs": [
    {
     "name": "stdout",
     "output_type": "stream",
     "text": [
      "No is greater than 10\n",
      "No is less than 10\n",
      "No is less than 0\n"
     ]
    }
   ],
   "source": [
    "num = 10\n",
    "# 0,None,False -> False\n",
    "# Rest all is true even -1\n",
    "if -1:\n",
    "    print(\"No is greater than 10\")\n",
    "print(\"No is less than 10\")\n",
    "\n",
    "if num > 10:\n",
    "    print(\"No is greater than 0\")\n",
    "elif num == 0:\n",
    "    print(\"No is equal to 0\")\n",
    "else:\n",
    "    print(\"No is less than 0\")    "
   ]
  },
  {
   "cell_type": "code",
   "execution_count": 25,
   "metadata": {},
   "outputs": [
    {
     "name": "stdout",
     "output_type": "stream",
     "text": [
      "10\n",
      "20\n",
      "30\n",
      "40\n",
      "50\n",
      "No item left in the list\n",
      "Product is: 12000000\n"
     ]
    }
   ],
   "source": [
    "lst = [10, 20, 30, 40, 50]\n",
    "\n",
    "product = 1\n",
    "index = 0\n",
    "\n",
    "while index < len(lst):\n",
    "    product *= lst[index]\n",
    "    print(lst[index])\n",
    "    index += 1\n",
    "else:\n",
    "    print(\"No item left in the list\")\n",
    "print(\"Product is: {}\".format(product))"
   ]
  },
  {
   "cell_type": "code",
   "execution_count": 27,
   "metadata": {},
   "outputs": [
    {
     "name": "stdout",
     "output_type": "stream",
     "text": [
      "Product is: 12000000 \n",
      "0\n",
      "1\n",
      "2\n",
      "3\n",
      "4\n",
      "5\n",
      "6\n",
      "7\n",
      "8\n",
      "9\n"
     ]
    }
   ],
   "source": [
    "lst = [10, 20, 30, 40, 50]\n",
    "\n",
    "product = 1\n",
    "for ele in lst:\n",
    "    product *= ele\n",
    "print(\"Product is: {} \".format(product))\n",
    "\n",
    "for i in range(10):\n",
    "    print(i)"
   ]
  },
  {
   "cell_type": "code",
   "execution_count": 28,
   "metadata": {},
   "outputs": [
    {
     "name": "stdout",
     "output_type": "stream",
     "text": [
      "1\n",
      "3\n",
      "5\n",
      "7\n",
      "9\n",
      "11\n",
      "13\n",
      "15\n",
      "17\n",
      "19\n"
     ]
    }
   ],
   "source": [
    "#print from 1 to 20 with step of 2\n",
    "for i in range(1, 20, 2):\n",
    "    print(i)"
   ]
  },
  {
   "cell_type": "code",
   "execution_count": 33,
   "metadata": {},
   "outputs": [
    {
     "name": "stdout",
     "output_type": "stream",
     "text": [
      "shubh\n",
      "josh\n",
      "naveen\n"
     ]
    }
   ],
   "source": [
    "lst =[\"shubh\",\"josh\",\"naveen\"]\n",
    "\n",
    "# for index in range(len(lst)):\n",
    "#     print(lst[index])\n",
    "    \n",
    "for ele in lst:\n",
    "    print(ele)"
   ]
  },
  {
   "cell_type": "code",
   "execution_count": 35,
   "metadata": {},
   "outputs": [
    {
     "name": "stdout",
     "output_type": "stream",
     "text": [
      "Prime numbers between 5 and 50 are:\n",
      "5\n",
      "7\n",
      "11\n",
      "13\n",
      "17\n",
      "19\n",
      "23\n",
      "29\n",
      "31\n",
      "37\n",
      "41\n",
      "43\n",
      "47\n"
     ]
    }
   ],
   "source": [
    "index1 = 5\n",
    "index2 = 50\n",
    "\n",
    "print(\"Prime numbers between {0} and {1} are:\".format(index1, index2))\n",
    "\n",
    "for num in range(index1, index2+1):\n",
    "    if num >1:\n",
    "        isDivisible = False;\n",
    "        for index in range(2, num):\n",
    "            if num % index == 0:\n",
    "                isDivisible = True;\n",
    "        if not isDivisible:\n",
    "            print(num);"
   ]
  },
  {
   "cell_type": "code",
   "execution_count": 9,
   "metadata": {},
   "outputs": [
    {
     "name": "stdout",
     "output_type": "stream",
     "text": [
      "['six', 'one', 1, 'two', 4.5, 'two', 'five']\n",
      "['six', 'one', 1, 4.5, 'two', 'five']\n",
      "['six', 'one', 1, 4.5, 'two', 'five', ['five', 'seven']]\n",
      "['six', 'one', 1, 4.5, 'two', 'five', ['five', 'seven'], 'five', 'seven']\n",
      "['six', 1, 4.5, 'two', 'five', ['five', 'seven'], 'five', 'seven']\n"
     ]
    }
   ],
   "source": [
    "lst = [\"one\",1,\"two\",4.5,\"two\"]\n",
    "lst.append(\"five\")\n",
    "lst.insert(0, \"six\")\n",
    "print(lst)\n",
    "lst.remove(\"two\")# removes the first occurance\n",
    "print(lst)\n",
    "lst2 = [\"five\", \"seven\"]\n",
    "lst.append(lst2) # It will append the lst2 at the end of lst so it will be list of list ['six', 'one', 1, 4.5, 'two', 'five', ['five', 'seven']]\n",
    "print(lst)\n",
    "lst.extend(lst2) # these are added as the element in the list ['six', 'one', 1, 4.5, 'two', 'five', ['five', 'seven'], 'five', 'seven']\n",
    "print(lst)\n",
    "#del lst[1]\n",
    "print(lst)"
   ]
  },
  {
   "cell_type": "code",
   "execution_count": 1,
   "metadata": {
    "scrolled": true
   },
   "outputs": [
    {
     "name": "stdout",
     "output_type": "stream",
     "text": [
      "AI\n",
      "ML\n",
      "['four', 'three', 'two', 'one']\n",
      "Sorted lst:  [1, 2, 3, 5, 6]\n",
      "Original lst:  [3, 1, 2, 5, 6]\n",
      "Reversed sorted list: [6, 5, 3, 2, 1]\n",
      "[1, 2, 3, 5, 6]\n",
      "[1, 2, 3, 4, 5, 6]\n"
     ]
    }
   ],
   "source": [
    "lst = [\"one\", \"two\", \"three\", \"four\"]\n",
    "if 'two' in lst:\n",
    "    print(\"AI\")\n",
    "if 'six' not in lst:\n",
    "    print(\"ML\")\n",
    "lst.reverse()\n",
    "print(lst)\n",
    "number = [3, 1, 2, 5, 6]\n",
    "sorted_lst = sorted(number)\n",
    "print(\"Sorted lst: \", sorted_lst)\n",
    "print(\"Original lst: \", number)\n",
    "#print a list in reverse sorted order\n",
    "print(\"Reversed sorted list:\", sorted(number, reverse=True))\n",
    "#It will sort the list n place in same lst\n",
    "number.sort()\n",
    "print(number)\n",
    "#References wch are the pointers\n",
    "lst = [1,2,3,4,5]\n",
    "abc = lst\n",
    "abc.append(6)\n",
    "print(lst)"
   ]
  },
  {
   "cell_type": "code",
   "execution_count": 4,
   "metadata": {},
   "outputs": [
    {
     "name": "stdout",
     "output_type": "stream",
     "text": [
      "['one', 'two', 'three', 'four']\n",
      "[20, 30, 40]\n",
      "[10, 30, 50]\n",
      "[20, 40, 60]\n",
      "[1, 2, 3, 4, 'vaerma', 'shubh', 'joshi']\n",
      "1\n",
      "[0, 1, 4, 9, 16, 25, 36, 49, 64, 81]\n",
      "[10, 20, 30]\n",
      "[(0, 0), (1, 1), (2, 4), (3, 9), (4, 16), (5, 25), (6, 36), (7, 49), (8, 64), (9, 81)]\n"
     ]
    }
   ],
   "source": [
    "s = \"one,two,three,four\"\n",
    "sts =s.split(\",\")\n",
    "print(sts)\n",
    "#slicing\n",
    "numbers = [10,20,30,40,50,60,70]\n",
    "print(numbers[1:4])\n",
    "print(numbers[0:6:2])#step size is 2\n",
    "print(numbers[1::2])\n",
    "lst1 = [1,2,3,4]\n",
    "lst2 = [\"vaerma\",\"shubh\",\"joshi\"]\n",
    "lst3 = lst1+lst2 # the list will be extended in this\n",
    "print(lst3)\n",
    "#It tells the frequency of element 10 in the list\n",
    "print(numbers.count(10))\n",
    "\n",
    "#list comprehension\n",
    "squares = [i**2 for i in range(10)]\n",
    "print(squares)\n",
    "lst = [-10,-20,10,20,30]\n",
    "#filter in the list\n",
    "new_lst = [i for i in lst if i >= 0]\n",
    "print(new_lst)\n",
    "#create a list of tuples \n",
    "new_lst = [(i, i**2) for i in range(10)]\n",
    "print(new_lst)\n",
    "\n"
   ]
  },
  {
   "cell_type": "code",
   "execution_count": 6,
   "metadata": {},
   "outputs": [
    {
     "name": "stdout",
     "output_type": "stream",
     "text": [
      "2\n",
      "[[1, 5, 9], [2, 6, 10], [3, 7, 11], [4, 8, 12]]\n",
      "[[1, 5, 9], [2, 6, 10], [3, 7, 11], [4, 8, 12]]\n"
     ]
    }
   ],
   "source": [
    "numbers = [1,2,3,4,5,1,6,7]\n",
    "#It tells the frequency of the no\n",
    "print(numbers.count(1))\n",
    "\n",
    "#Nested list comprehensions\n",
    "matrix = [\n",
    "    [1,2,3,4],\n",
    "    [5,6,7,8],\n",
    "    [9,10,11,12]\n",
    "]\n",
    "\n",
    "transposed = []\n",
    "for i in range(4):\n",
    "    lst = []\n",
    "    for row in matrix:\n",
    "        lst.append(row[i])\n",
    "    transposed.append(lst)\n",
    "\n",
    "print(transposed)\n",
    "\n",
    "transpose = [[row[i] for row in matrix] for i in range(4)]\n",
    "print(transpose)"
   ]
  },
  {
   "cell_type": "code",
   "execution_count": 14,
   "metadata": {},
   "outputs": [
    {
     "name": "stdout",
     "output_type": "stream",
     "text": [
      "(1, 2, 3)\n",
      "('a', 2, 1, 'bnc', [2, 3, 4, 5])\n",
      "[2, 3, 4, 5]\n",
      "3\n",
      "('a', 2, 1)\n",
      "('a', 2, 1, 'bnc', [2, 9, 4, 5])\n"
     ]
    }
   ],
   "source": [
    "#Tuple\n",
    "t = ()\n",
    "t = (1,2,3)\n",
    "print(t)\n",
    "t =('a',2,1,'bnc',[2,3,4,5])\n",
    "print(t)\n",
    "print(t[4])\n",
    "print(t[4][1])\n",
    "print(t[:-2]) #upto -2\n",
    "t[4][1] = 9 # we can modify list in the tuple\n",
    "print(t)\n",
    "del t\n"
   ]
  },
  {
   "cell_type": "code",
   "execution_count": 4,
   "metadata": {},
   "outputs": [
    {
     "name": "stdout",
     "output_type": "stream",
     "text": [
      "Hello shubh\n",
      "\n",
      "        Prints the name\n",
      "    \n"
     ]
    }
   ],
   "source": [
    "def print_name(name):\n",
    "    \"\"\"\n",
    "        Prints the name\n",
    "    \"\"\"\n",
    "    print(\"Hello \"+str(name))\n",
    "    \n",
    "print_name(\"shubh\")\n",
    "\n",
    "print(print_name.__doc__)"
   ]
  },
  {
   "cell_type": "code",
   "execution_count": 5,
   "metadata": {},
   "outputs": [
    {
     "name": "stdout",
     "output_type": "stream",
     "text": [
      "15\n"
     ]
    }
   ],
   "source": [
    "def get_sum(lst):\n",
    "# It is okay to use the _ underscore at the begining of the variable\n",
    "    _sum = 0  \n",
    "    for num in lst:\n",
    "        _sum  += num\n",
    "# Optional to write the return  if we donot return anything it by default it is None\n",
    "    return _sum   \n",
    "\n",
    "s = get_sum([1,2,3,4,5])\n",
    "print(s)"
   ]
  },
  {
   "cell_type": "code",
   "execution_count": 9,
   "metadata": {},
   "outputs": [
    {
     "name": "stdout",
     "output_type": "stream",
     "text": [
      "HCF of 98 and 78 is: 2\n"
     ]
    }
   ],
   "source": [
    "def computeHCF(a, b):\n",
    "    smaller = b if a > b else a\n",
    "    hcf=1\n",
    "    for i in range(1, smaller+1):\n",
    "        if (a % i == 0) and (b % i == 0):\n",
    "            hcf = i\n",
    "    return hcf\n",
    "\n",
    "num1 = 98\n",
    "num2= 78\n",
    "print(\"HCF of {0} and {1} is: {2}\".format(num1, num2, computeHCF(num1, num2)))"
   ]
  },
  {
   "cell_type": "code",
   "execution_count": 19,
   "metadata": {},
   "outputs": [
    {
     "name": "stdout",
     "output_type": "stream",
     "text": [
      "100\n",
      "True\n",
      "False\n",
      "True\n",
      "['__add__', '__class__', '__contains__', '__delattr__', '__delitem__', '__dir__', '__doc__', '__eq__', '__format__', '__ge__', '__getattribute__', '__getitem__', '__gt__', '__hash__', '__iadd__', '__imul__', '__init__', '__init_subclass__', '__iter__', '__le__', '__len__', '__lt__', '__mul__', '__ne__', '__new__', '__reduce__', '__reduce_ex__', '__repr__', '__reversed__', '__rmul__', '__setattr__', '__setitem__', '__sizeof__', '__str__', '__subclasshook__', 'append', 'clear', 'copy', 'count', 'extend', 'index', 'insert', 'pop', 'remove', 'reverse', 'sort']\n",
      "(4, 1)\n",
      "index 5 has value index 10\n",
      "index 6 has value index 20\n",
      "index 7 has value index 30\n"
     ]
    }
   ],
   "source": [
    "num = -100\n",
    "# Gives the positive no\n",
    "print(abs(num))\n",
    "lst = [1,2,4,5]\n",
    "lst1 = (0,1,2)\n",
    "lst2=[]\n",
    "# True if all elements are iterable\n",
    "print(all(lst))\n",
    "print(all(lst1))\n",
    "print(all(lst2))\n",
    "\n",
    "#dir, returns all the attributes and function that are associated with the data type\n",
    "numbers =[1,2,3]\n",
    "print(dir(numbers))\n",
    "\n",
    "#returns the tuple of quotient and the remainder (4,1)\n",
    "print(divmod(9,2))\n",
    "\n",
    "# returns the index and the value of it, default start value is 0\n",
    "numbers1 = [10,20,30]\n",
    "for index, num in enumerate(numbers1):\n",
    "    print(\"index {0} has value index {1}\".format(index,num))"
   ]
  },
  {
   "cell_type": "code",
   "execution_count": 21,
   "metadata": {},
   "outputs": [
    {
     "name": "stdout",
     "output_type": "stream",
     "text": [
      "[-10, -9, -8, -7, -6, -5, -4, -3, -2, -1, 0, 1, 2, 3, 4, 5, 6, 7, 8, 9]\n",
      "[1, 2, 3, 4, 5, 6, 7, 8, 9]\n"
     ]
    }
   ],
   "source": [
    "#filter works on each element individually\n",
    "def find_positive_number(num):\n",
    "    if(num > 0):\n",
    "        return num\n",
    "\n",
    "number_list = range(-10, 10)\n",
    "print(list(number_list))\n",
    "\n",
    "positive_num_lst = list(filter(find_positive_number, number_list))\n",
    "print(positive_num_lst)\n"
   ]
  },
  {
   "cell_type": "code",
   "execution_count": 23,
   "metadata": {},
   "outputs": [
    {
     "name": "stdout",
     "output_type": "stream",
     "text": [
      "True\n",
      "True\n"
     ]
    }
   ],
   "source": [
    "# isinstance, used if the value is of particular type\n",
    "lst = [1, 2, 3, 4]\n",
    "print(isinstance(lst, list))\n",
    "\n",
    "t = (1,2,3,4)\n",
    "print(isinstance(t, tuple))\n"
   ]
  },
  {
   "cell_type": "code",
   "execution_count": 27,
   "metadata": {},
   "outputs": [
    {
     "name": "stdout",
     "output_type": "stream",
     "text": [
      "[1, 4, 9, 16]\n",
      "24\n"
     ]
    }
   ],
   "source": [
    "#map, create a new list works on each element individually\n",
    "number = [1,2,3,4]\n",
    "\n",
    "def powerOfTwo(num):\n",
    "    return num ** 2\n",
    "\n",
    "squared = list(map(powerOfTwo, number))\n",
    "print(squared)\n",
    "\n",
    "#reduce, it works on the element consiqutively in the list, like one after the another in the list\n",
    "from functools import reduce\n",
    "\n",
    "def multiply(x, y):\n",
    "    return x*y;\n",
    "lst = [1, 2, 3, 4]\n",
    "product = reduce(multiply, lst)\n",
    "print(product)\n"
   ]
  },
  {
   "cell_type": "code",
   "execution_count": 32,
   "metadata": {},
   "outputs": [
    {
     "name": "stdout",
     "output_type": "stream",
     "text": [
      "Select Option\n",
      "1. Addition\n",
      "2. Subtraction\n",
      "3. Multiply\n",
      "4. Divide\n",
      "Enter choice 1/2/3/41\n",
      "Enter the first number 20\n",
      "Enter the second number 30\n",
      "Addition of 20.0 and 30.0 is: 50.0\n"
     ]
    }
   ],
   "source": [
    "def add(a, b):\n",
    "    return (a + b)\n",
    "\n",
    "def subtract(a, b):\n",
    "    return (a - b)\n",
    "\n",
    "def multiply(a, b):\n",
    "    return (a * b)\n",
    "\n",
    "def divide(a, b):\n",
    "    return (a / b)\n",
    "\n",
    "print(\"Select Option\")\n",
    "print(\"1. Addition\")\n",
    "print(\"2. Subtraction\")\n",
    "print(\"3. Multiply\")\n",
    "print(\"4. Divide\")\n",
    "\n",
    "choice = int(input(\"Enter choice 1/2/3/4\"))\n",
    "\n",
    "num1 = float(input(\"Enter the first number \"))\n",
    "num2 = float(input(\"Enter the second number \"))\n",
    "\n",
    "if choice == 1:\n",
    "    print (\"Addition of {0} and {1} is: {2}\".format(num1, num2, add(num1, num2)))\n",
    "elif choice == 2:\n",
    "    print (\"Subtraction of {0} and {1} is: {2}\".format(num1, num2, subtract(num1, num2)))\n",
    "elif choice == 3:\n",
    "    print (\"Muliplication of {0} and {1} is: {2}\".format(num1, num2, multiply(num1, num2)))\n",
    "elif choice == 4:\n",
    "    print (\"Division of {0} and {1} is: {2}\".format(num1, num2, divide(num1, num2)))\n",
    "else:\n",
    "    print(\"Wrong choice\")\n",
    "    "
   ]
  },
  {
   "cell_type": "code",
   "execution_count": 36,
   "metadata": {},
   "outputs": [
    {
     "name": "stdout",
     "output_type": "stream",
     "text": [
      "Hello shubh, Good Morning\n",
      "Hello Shubham, Good evening!! \n",
      "('shubh', 'mohit', 'ram')\n",
      "hello shubh \n",
      "hello mohit \n",
      "hello ram \n"
     ]
    }
   ],
   "source": [
    "#Default argument in the msg if we dont pass arg\n",
    "def greet(name, msg = \"Good Morning\"):\n",
    "    print(\"Hello {0}, {1}\".format(name, msg))\n",
    "    \n",
    "greet('shubh')\n",
    "\n",
    "#keyword arg\n",
    "def greet(**kwargs):\n",
    "    if kwargs:\n",
    "        print(\"Hello {0}, {1} \".format(kwargs['name'], kwargs['msg']))\n",
    "        \n",
    "greet(name='Shubham', msg=\"Good evening!!\")\n",
    "\n",
    "#arbitary arg\n",
    "def greet(*names):\n",
    "    print(names)\n",
    "    \n",
    "    for name in names:\n",
    "        print(\"hello {0} \".format(name))\n",
    "        \n",
    "greet(\"shubh\", \"mohit\", \"ram\")\n"
   ]
  },
  {
   "cell_type": "code",
   "execution_count": 38,
   "metadata": {},
   "outputs": [
    {
     "name": "stdout",
     "output_type": "stream",
     "text": [
      "Factorial of 5 is 120 \n"
     ]
    }
   ],
   "source": [
    "def factorial(num):\n",
    "    \"\"\" Finding factorial recursively\"\"\"\n",
    "    return 1 if num == 1 else (num * factorial(num-1))\n",
    "\n",
    "num = 5\n",
    "print(\"Factorial of {0} is {1} \".format(num, factorial(num)))"
   ]
  },
  {
   "cell_type": "code",
   "execution_count": 39,
   "metadata": {},
   "outputs": [
    {
     "name": "stdout",
     "output_type": "stream",
     "text": [
      "Fibonnaci series\n",
      "0\n",
      "1\n",
      "1\n",
      "2\n",
      "3\n",
      "5\n",
      "8\n",
      "13\n",
      "21\n",
      "34\n"
     ]
    }
   ],
   "source": [
    "def fibonnaci(num):\n",
    "    return num if num <=1  else fibonnaci(num-1) + fibonnaci(num-2)\n",
    "\n",
    "nterms = 10\n",
    "print(\"Fibonnaci series\")\n",
    "for num in range(nterms):\n",
    "    print(fibonnaci(num))\n"
   ]
  },
  {
   "cell_type": "code",
   "execution_count": 44,
   "metadata": {},
   "outputs": [
    {
     "name": "stdout",
     "output_type": "stream",
     "text": [
      "10\n",
      "[2, 4]\n",
      "[1, 4, 9, 16, 25]\n",
      "120\n"
     ]
    }
   ],
   "source": [
    "double = lambda x: x*2\n",
    "\n",
    "print(double(5))\n",
    "\n",
    "lst = [1, 2, 3, 4, 5]\n",
    "even_lst = list(filter(lambda x: (x % 2 == 0), lst))\n",
    "print(even_lst)\n",
    "\n",
    "#map\n",
    "new_lst = list(map( lambda x: (x**2), lst))\n",
    "print(new_lst)\n",
    "\n",
    "#reduce\n",
    "from functools import reduce\n",
    "product_lst = reduce(lambda x,y : x * y, lst)\n",
    "print(product_lst)"
   ]
  },
  {
   "cell_type": "code",
   "execution_count": 55,
   "metadata": {},
   "outputs": [
    {
     "name": "stdout",
     "output_type": "stream",
     "text": [
      "\n",
      " This is external write \n",
      "\n",
      "\n"
     ]
    },
    {
     "data": {
      "text/plain": [
       "0"
      ]
     },
     "execution_count": 55,
     "metadata": {},
     "output_type": "execute_result"
    }
   ],
   "source": [
    "f = open('example.txt','w')\n",
    "f.close()\n",
    "\n",
    "f = open('test.txt',\"w\", encoding='utf-8')\n",
    "f.write('\\n This is external write \\n')\n",
    "f.close()\n",
    "\n",
    "f = open('test.txt',\"r\")\n",
    "print(f.read())\n",
    "print(f.read(4))\n",
    "\n",
    "#cursor location\n",
    "f.tell()\n",
    "#bring the cursor back to 0\n",
    "f.seek(0)"
   ]
  },
  {
   "cell_type": "code",
   "execution_count": 57,
   "metadata": {},
   "outputs": [
    {
     "name": "stdout",
     "output_type": "stream",
     "text": [
      "\n",
      "\n",
      " This is external write \n",
      "\n"
     ]
    }
   ],
   "source": [
    "f.seek(0)\n",
    "for line in f:\n",
    "    print(line)"
   ]
  },
  {
   "cell_type": "code",
   "execution_count": 59,
   "metadata": {},
   "outputs": [
    {
     "data": {
      "text/plain": [
       "[' This is external write \\n']"
      ]
     },
     "execution_count": 59,
     "metadata": {},
     "output_type": "execute_result"
    }
   ],
   "source": [
    "f = open(\"test.txt\",\"r\")\n",
    "# will read upto /n but the cursor will stay there\n",
    "f.readline()\n",
    "\n",
    "f.readlines()"
   ]
  },
  {
   "cell_type": "code",
   "execution_count": null,
   "metadata": {
    "scrolled": true
   },
   "outputs": [],
   "source": [
    "import os\n",
    "import shutil\n",
    "#Gets the current working directory, os module works on the folder\n",
    "os.getcwd()\n",
    "\n",
    "os.listdir(os.getcwd())\n",
    "os.mkdir('test')\n",
    "os.chdir('./test')\n",
    "f = open('testfile.txt','w')\n",
    "f.write('Hello World')\n",
    "os.chdir(\"../\")\n",
    "os.getcwd()\n",
    "# This removes the whole tree that is the folder and file inside it\n",
    "shutil.rmtree('test')"
   ]
  },
  {
   "cell_type": "code",
   "execution_count": null,
   "metadata": {},
   "outputs": [],
   "source": [
    "# Errors that python can handle\n",
    "dir(__builtins__)"
   ]
  },
  {
   "cell_type": "code",
   "execution_count": 21,
   "metadata": {},
   "outputs": [
    {
     "name": "stdout",
     "output_type": "stream",
     "text": [
      "The entry is  b\n",
      "Oops!  <class 'ValueError'>  occured.\n",
      "Next entry.\n",
      "*******************\n",
      "The entry is  0\n",
      "Oops!  <class 'ZeroDivisionError'>  occured.\n",
      "Next entry.\n",
      "*******************\n",
      "The entry is  2\n",
      "The reciprocal of 2 is 0.5\n"
     ]
    }
   ],
   "source": [
    "import sys\n",
    "\n",
    "\n",
    "lst = ['b', 0, 2]\n",
    "\n",
    "for entry in lst:\n",
    "    try:\n",
    "        print(\"The entry is \",entry)\n",
    "        r = 1/ int(entry)\n",
    "    except:\n",
    "        print(\"Oops! \", sys.exc_info()[0],\" occured.\")\n",
    "        print(\"Next entry.\")\n",
    "        print(\"*******************\")\n",
    "print(\"The reciprocal of {0} is {1}\".format(entry, r))"
   ]
  },
  {
   "cell_type": "code",
   "execution_count": 22,
   "metadata": {
    "scrolled": true
   },
   "outputs": [
    {
     "ename": "MemoryError",
     "evalue": "This is memory error",
     "output_type": "error",
     "traceback": [
      "\u001b[1;31m---------------------------------------------------------------------------\u001b[0m",
      "\u001b[1;31mMemoryError\u001b[0m                               Traceback (most recent call last)",
      "\u001b[1;32m<ipython-input-22-77ea26200f21>\u001b[0m in \u001b[0;36m<module>\u001b[1;34m\u001b[0m\n\u001b[1;32m----> 1\u001b[1;33m \u001b[1;32mraise\u001b[0m \u001b[0mMemoryError\u001b[0m\u001b[1;33m(\u001b[0m\u001b[1;34m\"This is memory error\"\u001b[0m\u001b[1;33m)\u001b[0m\u001b[1;33m\u001b[0m\u001b[1;33m\u001b[0m\u001b[0m\n\u001b[0m",
      "\u001b[1;31mMemoryError\u001b[0m: This is memory error"
     ]
    }
   ],
   "source": [
    "raise MemoryError(\"This is memory error\")"
   ]
  },
  {
   "cell_type": "code",
   "execution_count": 23,
   "metadata": {},
   "outputs": [
    {
     "name": "stdout",
     "output_type": "stream",
     "text": [
      "Enter a positive no-10\n",
      "Error: Entered the negative number\n"
     ]
    }
   ],
   "source": [
    "try:\n",
    "    num = int(input(\"Enter a positive no\"))\n",
    "    if num <= 0:\n",
    "        raise ValueError(\"Error: Entered the negative number\")\n",
    "except ValueError as e:\n",
    "    print(e)\n",
    "    "
   ]
  },
  {
   "cell_type": "code",
   "execution_count": 25,
   "metadata": {},
   "outputs": [
    {
     "name": "stdout",
     "output_type": "stream",
     "text": [
      "> <ipython-input-25-0de9ae5a6201>(7)seq()\n",
      "-> print(i)\n",
      "(Pdb) i\n",
      "0\n",
      "(Pdb) n\n",
      "0\n",
      "> <ipython-input-25-0de9ae5a6201>(5)seq()\n",
      "-> for i in range(n):\n",
      "(Pdb) continue\n",
      "> <ipython-input-25-0de9ae5a6201>(7)seq()\n",
      "-> print(i)\n",
      "(Pdb) i\n",
      "1\n",
      "(Pdb) n\n",
      "1\n",
      "> <ipython-input-25-0de9ae5a6201>(5)seq()\n",
      "-> for i in range(n):\n",
      "(Pdb) list\n",
      "  1  \timport pdb\n",
      "  2  \t\n",
      "  3  \t#interactive debugging\n",
      "  4  \tdef seq(n):\n",
      "  5  ->\t    for i in range(n):\n",
      "  6  \t        pdb.set_trace()\n",
      "  7  \t        print(i)\n",
      "  8  \t    return\n",
      "  9  \t\n",
      " 10  \tseq(5)\n",
      "[EOF]\n",
      "(Pdb) p i\n",
      "1\n",
      "(Pdb) p n\n",
      "5\n",
      "(Pdb) p locals\n",
      "<built-in function locals>\n",
      "(Pdb) p locals()\n",
      "{'n': 5, 'i': 1}\n",
      "(Pdb) c\n",
      "> <ipython-input-25-0de9ae5a6201>(7)seq()\n",
      "-> print(i)\n",
      "(Pdb) p locals()\n",
      "{'n': 5, 'i': 2}\n",
      "(Pdb) h\n",
      "\n",
      "Documented commands (type help <topic>):\n",
      "========================================\n",
      "EOF    c          d        h         list      q        rv       undisplay\n",
      "a      cl         debug    help      ll        quit     s        unt      \n",
      "alias  clear      disable  ignore    longlist  r        source   until    \n",
      "args   commands   display  interact  n         restart  step     up       \n",
      "b      condition  down     j         next      return   tbreak   w        \n",
      "break  cont       enable   jump      p         retval   u        whatis   \n",
      "bt     continue   exit     l         pp        run      unalias  where    \n",
      "\n",
      "Miscellaneous help topics:\n",
      "==========================\n",
      "exec  pdb\n",
      "\n",
      "(Pdb) q\n"
     ]
    },
    {
     "ename": "BdbQuit",
     "evalue": "",
     "output_type": "error",
     "traceback": [
      "\u001b[1;31m---------------------------------------------------------------------------\u001b[0m",
      "\u001b[1;31mBdbQuit\u001b[0m                                   Traceback (most recent call last)",
      "\u001b[1;32m<ipython-input-25-0de9ae5a6201>\u001b[0m in \u001b[0;36m<module>\u001b[1;34m\u001b[0m\n\u001b[0;32m      8\u001b[0m     \u001b[1;32mreturn\u001b[0m\u001b[1;33m\u001b[0m\u001b[1;33m\u001b[0m\u001b[0m\n\u001b[0;32m      9\u001b[0m \u001b[1;33m\u001b[0m\u001b[0m\n\u001b[1;32m---> 10\u001b[1;33m \u001b[0mseq\u001b[0m\u001b[1;33m(\u001b[0m\u001b[1;36m5\u001b[0m\u001b[1;33m)\u001b[0m\u001b[1;33m\u001b[0m\u001b[1;33m\u001b[0m\u001b[0m\n\u001b[0m",
      "\u001b[1;32m<ipython-input-25-0de9ae5a6201>\u001b[0m in \u001b[0;36mseq\u001b[1;34m(n)\u001b[0m\n\u001b[0;32m      5\u001b[0m     \u001b[1;32mfor\u001b[0m \u001b[0mi\u001b[0m \u001b[1;32min\u001b[0m \u001b[0mrange\u001b[0m\u001b[1;33m(\u001b[0m\u001b[0mn\u001b[0m\u001b[1;33m)\u001b[0m\u001b[1;33m:\u001b[0m\u001b[1;33m\u001b[0m\u001b[1;33m\u001b[0m\u001b[0m\n\u001b[0;32m      6\u001b[0m         \u001b[0mpdb\u001b[0m\u001b[1;33m.\u001b[0m\u001b[0mset_trace\u001b[0m\u001b[1;33m(\u001b[0m\u001b[1;33m)\u001b[0m\u001b[1;33m\u001b[0m\u001b[1;33m\u001b[0m\u001b[0m\n\u001b[1;32m----> 7\u001b[1;33m         \u001b[0mprint\u001b[0m\u001b[1;33m(\u001b[0m\u001b[0mi\u001b[0m\u001b[1;33m)\u001b[0m\u001b[1;33m\u001b[0m\u001b[1;33m\u001b[0m\u001b[0m\n\u001b[0m\u001b[0;32m      8\u001b[0m     \u001b[1;32mreturn\u001b[0m\u001b[1;33m\u001b[0m\u001b[1;33m\u001b[0m\u001b[0m\n\u001b[0;32m      9\u001b[0m \u001b[1;33m\u001b[0m\u001b[0m\n",
      "\u001b[1;32m<ipython-input-25-0de9ae5a6201>\u001b[0m in \u001b[0;36mseq\u001b[1;34m(n)\u001b[0m\n\u001b[0;32m      5\u001b[0m     \u001b[1;32mfor\u001b[0m \u001b[0mi\u001b[0m \u001b[1;32min\u001b[0m \u001b[0mrange\u001b[0m\u001b[1;33m(\u001b[0m\u001b[0mn\u001b[0m\u001b[1;33m)\u001b[0m\u001b[1;33m:\u001b[0m\u001b[1;33m\u001b[0m\u001b[1;33m\u001b[0m\u001b[0m\n\u001b[0;32m      6\u001b[0m         \u001b[0mpdb\u001b[0m\u001b[1;33m.\u001b[0m\u001b[0mset_trace\u001b[0m\u001b[1;33m(\u001b[0m\u001b[1;33m)\u001b[0m\u001b[1;33m\u001b[0m\u001b[1;33m\u001b[0m\u001b[0m\n\u001b[1;32m----> 7\u001b[1;33m         \u001b[0mprint\u001b[0m\u001b[1;33m(\u001b[0m\u001b[0mi\u001b[0m\u001b[1;33m)\u001b[0m\u001b[1;33m\u001b[0m\u001b[1;33m\u001b[0m\u001b[0m\n\u001b[0m\u001b[0;32m      8\u001b[0m     \u001b[1;32mreturn\u001b[0m\u001b[1;33m\u001b[0m\u001b[1;33m\u001b[0m\u001b[0m\n\u001b[0;32m      9\u001b[0m \u001b[1;33m\u001b[0m\u001b[0m\n",
      "\u001b[1;32mC:\\ProgramData\\Anaconda3\\lib\\bdb.py\u001b[0m in \u001b[0;36mtrace_dispatch\u001b[1;34m(self, frame, event, arg)\u001b[0m\n\u001b[0;32m     86\u001b[0m             \u001b[1;32mreturn\u001b[0m \u001b[1;31m# None\u001b[0m\u001b[1;33m\u001b[0m\u001b[1;33m\u001b[0m\u001b[0m\n\u001b[0;32m     87\u001b[0m         \u001b[1;32mif\u001b[0m \u001b[0mevent\u001b[0m \u001b[1;33m==\u001b[0m \u001b[1;34m'line'\u001b[0m\u001b[1;33m:\u001b[0m\u001b[1;33m\u001b[0m\u001b[1;33m\u001b[0m\u001b[0m\n\u001b[1;32m---> 88\u001b[1;33m             \u001b[1;32mreturn\u001b[0m \u001b[0mself\u001b[0m\u001b[1;33m.\u001b[0m\u001b[0mdispatch_line\u001b[0m\u001b[1;33m(\u001b[0m\u001b[0mframe\u001b[0m\u001b[1;33m)\u001b[0m\u001b[1;33m\u001b[0m\u001b[1;33m\u001b[0m\u001b[0m\n\u001b[0m\u001b[0;32m     89\u001b[0m         \u001b[1;32mif\u001b[0m \u001b[0mevent\u001b[0m \u001b[1;33m==\u001b[0m \u001b[1;34m'call'\u001b[0m\u001b[1;33m:\u001b[0m\u001b[1;33m\u001b[0m\u001b[1;33m\u001b[0m\u001b[0m\n\u001b[0;32m     90\u001b[0m             \u001b[1;32mreturn\u001b[0m \u001b[0mself\u001b[0m\u001b[1;33m.\u001b[0m\u001b[0mdispatch_call\u001b[0m\u001b[1;33m(\u001b[0m\u001b[0mframe\u001b[0m\u001b[1;33m,\u001b[0m \u001b[0marg\u001b[0m\u001b[1;33m)\u001b[0m\u001b[1;33m\u001b[0m\u001b[1;33m\u001b[0m\u001b[0m\n",
      "\u001b[1;32mC:\\ProgramData\\Anaconda3\\lib\\bdb.py\u001b[0m in \u001b[0;36mdispatch_line\u001b[1;34m(self, frame)\u001b[0m\n\u001b[0;32m    111\u001b[0m         \u001b[1;32mif\u001b[0m \u001b[0mself\u001b[0m\u001b[1;33m.\u001b[0m\u001b[0mstop_here\u001b[0m\u001b[1;33m(\u001b[0m\u001b[0mframe\u001b[0m\u001b[1;33m)\u001b[0m \u001b[1;32mor\u001b[0m \u001b[0mself\u001b[0m\u001b[1;33m.\u001b[0m\u001b[0mbreak_here\u001b[0m\u001b[1;33m(\u001b[0m\u001b[0mframe\u001b[0m\u001b[1;33m)\u001b[0m\u001b[1;33m:\u001b[0m\u001b[1;33m\u001b[0m\u001b[1;33m\u001b[0m\u001b[0m\n\u001b[0;32m    112\u001b[0m             \u001b[0mself\u001b[0m\u001b[1;33m.\u001b[0m\u001b[0muser_line\u001b[0m\u001b[1;33m(\u001b[0m\u001b[0mframe\u001b[0m\u001b[1;33m)\u001b[0m\u001b[1;33m\u001b[0m\u001b[1;33m\u001b[0m\u001b[0m\n\u001b[1;32m--> 113\u001b[1;33m             \u001b[1;32mif\u001b[0m \u001b[0mself\u001b[0m\u001b[1;33m.\u001b[0m\u001b[0mquitting\u001b[0m\u001b[1;33m:\u001b[0m \u001b[1;32mraise\u001b[0m \u001b[0mBdbQuit\u001b[0m\u001b[1;33m\u001b[0m\u001b[1;33m\u001b[0m\u001b[0m\n\u001b[0m\u001b[0;32m    114\u001b[0m         \u001b[1;32mreturn\u001b[0m \u001b[0mself\u001b[0m\u001b[1;33m.\u001b[0m\u001b[0mtrace_dispatch\u001b[0m\u001b[1;33m\u001b[0m\u001b[1;33m\u001b[0m\u001b[0m\n\u001b[0;32m    115\u001b[0m \u001b[1;33m\u001b[0m\u001b[0m\n",
      "\u001b[1;31mBdbQuit\u001b[0m: "
     ]
    }
   ],
   "source": [
    "import pdb\n",
    "\n",
    "#interactive debugging\n",
    "def seq(n):\n",
    "    for i in range(n):\n",
    "        pdb.set_trace() # breakpoint\n",
    "        print(i)\n",
    "    return\n",
    "\n",
    "seq(5)"
   ]
  }
 ],
 "metadata": {
  "kernelspec": {
   "display_name": "Python 3",
   "language": "python",
   "name": "python3"
  },
  "language_info": {
   "codemirror_mode": {
    "name": "ipython",
    "version": 3
   },
   "file_extension": ".py",
   "mimetype": "text/x-python",
   "name": "python",
   "nbconvert_exporter": "python",
   "pygments_lexer": "ipython3",
   "version": "3.7.3"
  }
 },
 "nbformat": 4,
 "nbformat_minor": 2
}
